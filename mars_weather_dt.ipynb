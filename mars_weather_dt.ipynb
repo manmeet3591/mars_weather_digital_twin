{
  "cells": [
    {
      "cell_type": "code",
      "execution_count": 1,
      "metadata": {
        "colab": {
          "base_uri": "https://localhost:8080/"
        },
        "id": "sjbYnloGlRyd",
        "outputId": "7371717b-3df2-482d-9630-b1f19a500ab7"
      },
      "outputs": [
        {
          "output_type": "stream",
          "name": "stdout",
          "text": [
            "Mounted at /content/drive\n"
          ]
        }
      ],
      "source": [
        "from google.colab import drive\n",
        "drive.mount('/content/drive', force_remount=True)"
      ]
    },
    {
      "cell_type": "code",
      "execution_count": 2,
      "metadata": {
        "colab": {
          "base_uri": "https://localhost:8080/"
        },
        "id": "rF135zii2JNm",
        "outputId": "5e0c7291-d5f0-4497-9278-beb8abc3dcde"
      },
      "outputs": [
        {
          "output_type": "stream",
          "name": "stdout",
          "text": [
            "--2025-05-08 18:37:26--  https://github.com/NVlabs/earth2grid/archive/refs/tags/v2024.8.1.tar.gz\n",
            "Resolving github.com (github.com)... 20.27.177.113\n",
            "Connecting to github.com (github.com)|20.27.177.113|:443... connected.\n",
            "HTTP request sent, awaiting response... 302 Found\n",
            "Location: https://codeload.github.com/NVlabs/earth2grid/tar.gz/refs/tags/v2024.8.1 [following]\n",
            "--2025-05-08 18:37:26--  https://codeload.github.com/NVlabs/earth2grid/tar.gz/refs/tags/v2024.8.1\n",
            "Resolving codeload.github.com (codeload.github.com)... 20.27.177.114\n",
            "Connecting to codeload.github.com (codeload.github.com)|20.27.177.114|:443... connected.\n",
            "HTTP request sent, awaiting response... 200 OK\n",
            "Length: unspecified [application/x-gzip]\n",
            "Saving to: ‘v2024.8.1.tar.gz’\n",
            "\n",
            "v2024.8.1.tar.gz        [ <=>                ] 152.13K  --.-KB/s    in 0.1s    \n",
            "\n",
            "2025-05-08 18:37:27 (1.03 MB/s) - ‘v2024.8.1.tar.gz’ saved [155784]\n",
            "\n"
          ]
        }
      ],
      "source": [
        "!wget https://github.com/NVlabs/earth2grid/archive/refs/tags/v2024.8.1.tar.gz"
      ]
    },
    {
      "cell_type": "code",
      "execution_count": 3,
      "metadata": {
        "colab": {
          "base_uri": "https://localhost:8080/"
        },
        "id": "Dm3PKT3H2MSV",
        "outputId": "72bab7d8-1a2c-4558-ab53-3dfa9c39ad1b"
      },
      "outputs": [
        {
          "output_type": "stream",
          "name": "stdout",
          "text": [
            "earth2grid-2024.8.1/\n",
            "earth2grid-2024.8.1/.bumpversion.cfg\n",
            "earth2grid-2024.8.1/.editorconfig\n",
            "earth2grid-2024.8.1/.github/\n",
            "earth2grid-2024.8.1/.github/ISSUE_TEMPLATE.md\n",
            "earth2grid-2024.8.1/.github/workflows/\n",
            "earth2grid-2024.8.1/.github/workflows/ci.yml\n",
            "earth2grid-2024.8.1/.gitignore\n",
            "earth2grid-2024.8.1/.gitlab-ci.yml\n",
            "earth2grid-2024.8.1/.pre-commit-config.yaml\n",
            "earth2grid-2024.8.1/CHANGELOG.md\n",
            "earth2grid-2024.8.1/CONTRIBUTING.md\n",
            "earth2grid-2024.8.1/LICENSE.txt\n",
            "earth2grid-2024.8.1/README.md\n",
            "earth2grid-2024.8.1/docs/\n",
            "earth2grid-2024.8.1/docs/.gitignore\n",
            "earth2grid-2024.8.1/docs/Makefile\n",
            "earth2grid-2024.8.1/docs/api.rst\n",
            "earth2grid-2024.8.1/docs/changelog.md\n",
            "earth2grid-2024.8.1/docs/conf.py\n",
            "earth2grid-2024.8.1/docs/contributing.md\n",
            "earth2grid-2024.8.1/docs/image_scraper.py\n",
            "earth2grid-2024.8.1/docs/img/\n",
            "earth2grid-2024.8.1/docs/img/image.jpg\n",
            "earth2grid-2024.8.1/docs/index.rst\n",
            "earth2grid-2024.8.1/docs/installation.md\n",
            "earth2grid-2024.8.1/docs/make.bat\n",
            "earth2grid-2024.8.1/docs/push_docs.sh\n",
            "earth2grid-2024.8.1/docs/usage.md\n",
            "earth2grid-2024.8.1/earth2grid/\n",
            "earth2grid-2024.8.1/earth2grid/__init__.py\n",
            "earth2grid-2024.8.1/earth2grid/_regrid.py\n",
            "earth2grid-2024.8.1/earth2grid/base.py\n",
            "earth2grid-2024.8.1/earth2grid/csrc/\n",
            "earth2grid-2024.8.1/earth2grid/csrc/healpix_bare_wrapper.cpp\n",
            "earth2grid-2024.8.1/earth2grid/csrc/healpixpad/\n",
            "earth2grid-2024.8.1/earth2grid/csrc/healpixpad/cudamacro.h\n",
            "earth2grid-2024.8.1/earth2grid/csrc/healpixpad/healpixpad.h\n",
            "earth2grid-2024.8.1/earth2grid/csrc/healpixpad/healpixpad_cuda.cpp\n",
            "earth2grid-2024.8.1/earth2grid/csrc/healpixpad/healpixpad_cuda_bwd.cu\n",
            "earth2grid-2024.8.1/earth2grid/csrc/healpixpad/healpixpad_cuda_fwd.cu\n",
            "earth2grid-2024.8.1/earth2grid/csrc/interpolation.h\n",
            "earth2grid-2024.8.1/earth2grid/healpix.py\n",
            "earth2grid-2024.8.1/earth2grid/healpix_bare.py\n",
            "earth2grid-2024.8.1/earth2grid/latlon.py\n",
            "earth2grid-2024.8.1/earth2grid/third_party/\n",
            "earth2grid-2024.8.1/earth2grid/third_party/healpix_bare/\n",
            "earth2grid-2024.8.1/earth2grid/third_party/healpix_bare/LICENSE\n",
            "earth2grid-2024.8.1/earth2grid/third_party/healpix_bare/NEWS\n",
            "earth2grid-2024.8.1/earth2grid/third_party/healpix_bare/README\n",
            "earth2grid-2024.8.1/earth2grid/third_party/healpix_bare/healpix_bare.c\n",
            "earth2grid-2024.8.1/earth2grid/third_party/healpix_bare/healpix_bare.h\n",
            "earth2grid-2024.8.1/earth2grid/third_party/healpix_bare/test.c\n",
            "earth2grid-2024.8.1/earth2grid/third_party/zephyr/\n",
            "earth2grid-2024.8.1/earth2grid/third_party/zephyr/LICENSE\n",
            "earth2grid-2024.8.1/earth2grid/third_party/zephyr/healpix.py\n",
            "earth2grid-2024.8.1/earth2grid/third_party/zephyr/test_healpix_pad.py\n",
            "earth2grid-2024.8.1/examples/\n",
            "earth2grid-2024.8.1/examples/sphinx_gallery/\n",
            "earth2grid-2024.8.1/examples/sphinx_gallery/README.rst\n",
            "earth2grid-2024.8.1/examples/sphinx_gallery/hpx2grid.py\n",
            "earth2grid-2024.8.1/examples/sphinx_gallery/latlon_to_healpix.py\n",
            "earth2grid-2024.8.1/examples/sphinx_gallery/pyvista_grids.py\n",
            "earth2grid-2024.8.1/makefile\n",
            "earth2grid-2024.8.1/pyproject.toml\n",
            "earth2grid-2024.8.1/setup.cfg\n",
            "earth2grid-2024.8.1/setup.py\n",
            "earth2grid-2024.8.1/tests/\n",
            "earth2grid-2024.8.1/tests/__init__.py\n",
            "earth2grid-2024.8.1/tests/_license/\n",
            "earth2grid-2024.8.1/tests/_license/config.json\n",
            "earth2grid-2024.8.1/tests/_license/header.txt\n",
            "earth2grid-2024.8.1/tests/_license/header_check.py\n",
            "earth2grid-2024.8.1/tests/_regtest_outputs/\n",
            "earth2grid-2024.8.1/tests/_regtest_outputs/test_healpix_bare.test_boundaries.out\n",
            "earth2grid-2024.8.1/tests/_regtest_outputs/test_healpix_bare.test_hpc2loc.out\n",
            "earth2grid-2024.8.1/tests/_regtest_outputs/test_healpix_bare.test_pix2ang[False-False].out\n",
            "earth2grid-2024.8.1/tests/_regtest_outputs/test_healpix_bare.test_pix2ang[False-True].out\n",
            "earth2grid-2024.8.1/tests/_regtest_outputs/test_healpix_bare.test_pix2ang[True-False].out\n",
            "earth2grid-2024.8.1/tests/_regtest_outputs/test_healpix_bare.test_pix2ang[True-True].out\n",
            "earth2grid-2024.8.1/tests/test_earth2grid.py\n",
            "earth2grid-2024.8.1/tests/test_healpix.py\n",
            "earth2grid-2024.8.1/tests/test_healpix_bare.py\n",
            "earth2grid-2024.8.1/tests/test_latlon.py\n",
            "earth2grid-2024.8.1/tests/test_regrid.py\n"
          ]
        }
      ],
      "source": [
        "!tar -xvf v2024.8.1.tar.gz"
      ]
    },
    {
      "cell_type": "code",
      "execution_count": null,
      "metadata": {
        "colab": {
          "base_uri": "https://localhost:8080/"
        },
        "id": "18olpdcW2Ube",
        "outputId": "14dbc904-ac2a-4162-9bcd-221419e0a750"
      },
      "outputs": [
        {
          "output_type": "stream",
          "name": "stdout",
          "text": [
            "Processing ./earth2grid-2024.8.1\n",
            "  Preparing metadata (pyproject.toml) ... \u001b[?25l\u001b[?25hdone\n",
            "Requirement already satisfied: einops>=0.7.0 in /usr/local/lib/python3.11/dist-packages (from earth2-grid==2024.8.1) (0.8.1)\n",
            "Collecting netCDF4>=1.6.5 (from earth2-grid==2024.8.1)\n",
            "  Downloading netCDF4-1.7.2-cp311-cp311-manylinux_2_17_x86_64.manylinux2014_x86_64.whl.metadata (1.8 kB)\n",
            "Requirement already satisfied: numpy>=1.23.3 in /usr/local/lib/python3.11/dist-packages (from earth2-grid==2024.8.1) (2.0.2)\n",
            "Requirement already satisfied: torch>=2.0.1 in /usr/local/lib/python3.11/dist-packages (from earth2-grid==2024.8.1) (2.6.0+cu124)\n",
            "Collecting cftime (from netCDF4>=1.6.5->earth2-grid==2024.8.1)\n",
            "  Downloading cftime-1.6.4.post1-cp311-cp311-manylinux_2_17_x86_64.manylinux2014_x86_64.whl.metadata (8.7 kB)\n",
            "Requirement already satisfied: certifi in /usr/local/lib/python3.11/dist-packages (from netCDF4>=1.6.5->earth2-grid==2024.8.1) (2025.4.26)\n",
            "Requirement already satisfied: filelock in /usr/local/lib/python3.11/dist-packages (from torch>=2.0.1->earth2-grid==2024.8.1) (3.18.0)\n",
            "Requirement already satisfied: typing-extensions>=4.10.0 in /usr/local/lib/python3.11/dist-packages (from torch>=2.0.1->earth2-grid==2024.8.1) (4.13.2)\n",
            "Requirement already satisfied: networkx in /usr/local/lib/python3.11/dist-packages (from torch>=2.0.1->earth2-grid==2024.8.1) (3.4.2)\n",
            "Requirement already satisfied: jinja2 in /usr/local/lib/python3.11/dist-packages (from torch>=2.0.1->earth2-grid==2024.8.1) (3.1.6)\n",
            "Requirement already satisfied: fsspec in /usr/local/lib/python3.11/dist-packages (from torch>=2.0.1->earth2-grid==2024.8.1) (2025.3.2)\n",
            "Collecting nvidia-cuda-nvrtc-cu12==12.4.127 (from torch>=2.0.1->earth2-grid==2024.8.1)\n",
            "  Downloading nvidia_cuda_nvrtc_cu12-12.4.127-py3-none-manylinux2014_x86_64.whl.metadata (1.5 kB)\n",
            "Collecting nvidia-cuda-runtime-cu12==12.4.127 (from torch>=2.0.1->earth2-grid==2024.8.1)\n",
            "  Downloading nvidia_cuda_runtime_cu12-12.4.127-py3-none-manylinux2014_x86_64.whl.metadata (1.5 kB)\n",
            "Collecting nvidia-cuda-cupti-cu12==12.4.127 (from torch>=2.0.1->earth2-grid==2024.8.1)\n",
            "  Downloading nvidia_cuda_cupti_cu12-12.4.127-py3-none-manylinux2014_x86_64.whl.metadata (1.6 kB)\n",
            "Collecting nvidia-cudnn-cu12==9.1.0.70 (from torch>=2.0.1->earth2-grid==2024.8.1)\n",
            "  Downloading nvidia_cudnn_cu12-9.1.0.70-py3-none-manylinux2014_x86_64.whl.metadata (1.6 kB)\n",
            "Collecting nvidia-cublas-cu12==12.4.5.8 (from torch>=2.0.1->earth2-grid==2024.8.1)\n",
            "  Downloading nvidia_cublas_cu12-12.4.5.8-py3-none-manylinux2014_x86_64.whl.metadata (1.5 kB)\n",
            "Collecting nvidia-cufft-cu12==11.2.1.3 (from torch>=2.0.1->earth2-grid==2024.8.1)\n",
            "  Downloading nvidia_cufft_cu12-11.2.1.3-py3-none-manylinux2014_x86_64.whl.metadata (1.5 kB)\n",
            "Collecting nvidia-curand-cu12==10.3.5.147 (from torch>=2.0.1->earth2-grid==2024.8.1)\n"
          ]
        }
      ],
      "source": [
        "!pip install --no-build-isolation /content/earth2grid-2024.8.1"
      ]
    },
    {
      "cell_type": "markdown",
      "metadata": {
        "id": "6_yxz5A-28wk"
      },
      "source": [
        "# Healpix to lat-lon"
      ]
    },
    {
      "cell_type": "code",
      "execution_count": null,
      "metadata": {
        "id": "Uw7pBEwo2e7f"
      },
      "outputs": [],
      "source": [
        "import earth2grid\n",
        "import torch\n",
        "level = 6\n",
        "hpx = earth2grid.healpix.Grid(level=level, pixel_order=earth2grid.healpix.XY())\n",
        "src = earth2grid.latlon.equiangular_lat_lon_grid(32, 64)\n",
        "z_torch = torch.cos(torch.deg2rad(torch.tensor(src.lat)))\n",
        "z_torch = z_torch.broadcast_to(src.shape)\n",
        "regrid = earth2grid.get_regridder(src, hpx)\n",
        "z_hpx = regrid(z_torch)\n",
        "nside = 2**level\n",
        "reshaped = z_hpx.reshape(12, nside, nside)\n",
        "lat_r = hpx.lat.reshape(12, nside, nside)\n",
        "lon_r = hpx.lon.reshape(12, nside, nside)"
      ]
    },
    {
      "cell_type": "code",
      "execution_count": null,
      "metadata": {
        "id": "CVmCk8Uy3Czp"
      },
      "outputs": [],
      "source": [
        "import numpy as np\n",
        "import torch\n",
        "\n",
        "import earth2grid\n",
        "\n",
        "device = \"cpu\"\n",
        "\n",
        "\n",
        "# the source grid (from 90N to 90S and 0E to 360E)\n",
        "ll = earth2grid.latlon.equiangular_lat_lon_grid(721, 1440)\n",
        "\n",
        "# a 2d grid of target lat lons\n",
        "target_lat = np.linspace(30, 50, 32)\n",
        "target_lon = np.linspace(100, 120, 64)\n",
        "target_lat, target_lon = np.meshgrid(target_lat, target_lon)\n",
        "\n",
        "# Some source data on the original grid\n",
        "data = torch.ones([721, 1440]).to(device)\n",
        "\n",
        "# Create a bilinear regridding object earth2grid\n",
        "regrid = ll.get_bilinear_regridder_to(target_lat, target_lon)\n",
        "\n",
        "# need to move the weights to same device and dtype as data\n",
        "regrid.to(data)\n",
        "\n",
        "# perform the regridding\n",
        "out = regrid(data)\n",
        "assert out.shape == target_lat.shape  # noqa\n",
        "print(\"data shape\", out.shape)"
      ]
    },
    {
      "cell_type": "markdown",
      "metadata": {
        "id": "VegzoH833EIO"
      },
      "source": [
        "# Lat-lon to Healpix"
      ]
    },
    {
      "cell_type": "code",
      "execution_count": null,
      "metadata": {
        "id": "kes7s3e38NJj"
      },
      "outputs": [],
      "source": [
        "import torch\n",
        "import earth2grid\n",
        "\n",
        "def latlon_to_healpix(data: torch.Tensor, level: int = 6, device: str = \"cpu\"):\n",
        "    \"\"\"\n",
        "    Regrid 2D lat-lon data to HEALPix format using earth2grid.\n",
        "\n",
        "    Args:\n",
        "        data (torch.Tensor): 2D tensor of shape [nlat, nlon].\n",
        "        level (int): HEALPix resolution level (default: 6 → nside=64).\n",
        "        device (str): Device to perform computation on (\"cpu\" or \"cuda\").\n",
        "\n",
        "    Returns:\n",
        "        data_hpx (torch.Tensor): Flat HEALPix data of shape [12 * nside * nside].\n",
        "        data_faces (torch.Tensor): Reshaped HEALPix data of shape [12, nside, nside].\n",
        "    \"\"\"\n",
        "    # Make sure data is on the correct device\n",
        "    data = data.to(device)\n",
        "\n",
        "    # Get source grid matching data shape\n",
        "    nlat, nlon = data.shape\n",
        "    src = earth2grid.latlon.equiangular_lat_lon_grid(nlat, nlon)\n",
        "\n",
        "    # Create HEALPix target grid\n",
        "    hpx = earth2grid.healpix.Grid(level=level, pixel_order=earth2grid.healpix.XY())\n",
        "    nside = 2 ** level\n",
        "\n",
        "    # Create and prepare regridder\n",
        "    regrid = earth2grid.get_regridder(src, hpx)\n",
        "    regrid.to(data)\n",
        "\n",
        "    # Perform regridding\n",
        "    data_hpx = regrid(data)\n",
        "    data_faces = data_hpx.reshape(12, nside, nside)\n",
        "\n",
        "    return data_hpx, data_faces\n",
        "\n",
        "# Example data: 721 x 1440 grid\n",
        "data = torch.ones([721, 1440])\n",
        "\n",
        "# Regrid to HEALPix level 6\n",
        "data_hpx, data_faces = latlon_to_healpix(data, level=6)\n",
        "\n",
        "print(\"Flat HEALPix shape:\", data_hpx.shape)       # torch.Size([49152])\n",
        "print(\"Face-wise shape:\", data_faces.shape)        # torch.Size([12, 64, 64])"
      ]
    },
    {
      "cell_type": "code",
      "execution_count": null,
      "metadata": {
        "id": "0HuDBj3O12CU"
      },
      "outputs": [],
      "source": [
        "!wget https://raw.githubusercontent.com/manmeet3591/download_mars_reanalysis/refs/heads/main/max_vals_mars.nc\n",
        "!wget https://raw.githubusercontent.com/manmeet3591/download_mars_reanalysis/refs/heads/main/min_vals_mars.nc"
      ]
    },
    {
      "cell_type": "code",
      "execution_count": null,
      "metadata": {
        "id": "LqCv-Fvn15R-"
      },
      "outputs": [],
      "source": [
        "import xarray as xr\n",
        "ds_min = xr.open_dataset('min_vals_mars.nc')\n",
        "ds_max = xr.open_dataset('max_vals_mars.nc')"
      ]
    },
    {
      "cell_type": "code",
      "execution_count": null,
      "metadata": {
        "id": "lQce2BAXlxHI"
      },
      "outputs": [],
      "source": [
        "!ls /content/drive/MyDrive/mars_reanalysis/"
      ]
    },
    {
      "cell_type": "code",
      "execution_count": null,
      "metadata": {
        "id": "Y4UaGaG1l77Q"
      },
      "outputs": [],
      "source": [
        "import xarray as xr\n",
        "import glob\n",
        "\n",
        "# Path to your directory containing the NetCDF files\n",
        "path = '/content/drive/MyDrive/mars_reanalysis/'\n",
        "\n",
        "# Get a list of all NetCDF files in the directory\n",
        "file_list = sorted(glob.glob(path + 'emars_*.nc'))\n",
        "\n",
        "# # Optionally: create a list of datasets\n",
        "# datasets = []\n",
        "\n",
        "for file in file_list[:1]:\n",
        "    ds = xr.open_dataset(file)\n",
        "    ds_normalized = (ds - ds_min) / (ds_max - ds_min)"
      ]
    },
    {
      "cell_type": "code",
      "execution_count": null,
      "metadata": {
        "id": "hGHJ2bjIKeZN"
      },
      "outputs": [],
      "source": [
        "ds_normalized"
      ]
    },
    {
      "cell_type": "code",
      "execution_count": null,
      "metadata": {
        "id": "vpjCaZnMYXRT"
      },
      "outputs": [],
      "source": [
        "ds_normalized.T"
      ]
    },
    {
      "cell_type": "code",
      "execution_count": null,
      "metadata": {
        "id": "g9PhMde_-_HS"
      },
      "outputs": [],
      "source": [
        "import torch\n",
        "import xarray as xr\n",
        "from tqdm import tqdm\n",
        "import earth2grid\n",
        "\n",
        "def latlon_to_healpix(data: torch.Tensor, level: int = 6, device: str = \"cpu\"):\n",
        "    data = data.to(device)\n",
        "    nlat, nlon = data.shape\n",
        "    src = earth2grid.latlon.equiangular_lat_lon_grid(nlat, nlon)\n",
        "    hpx = earth2grid.healpix.Grid(level=level, pixel_order=earth2grid.healpix.XY())\n",
        "    nside = 2 ** level\n",
        "    regrid = earth2grid.get_regridder(src, hpx)\n",
        "    regrid.to(data)\n",
        "    data_faces = regrid(data).reshape(12, nside, nside)\n",
        "    return data_faces\n",
        "\n",
        "def convert_to_healpix_array(ds: xr.DataArray, level: int = 6, device: str = \"cpu\") -> torch.Tensor:\n",
        "    \"\"\"\n",
        "    Convert xarray.DataArray [time, pfull, lat, lon]\n",
        "    into torch.Tensor [time, pfull, 12, nside, nside].\n",
        "    \"\"\"\n",
        "    time_len = ds.sizes[\"time\"]\n",
        "    pfull_len = ds.sizes[\"pfull\"]\n",
        "    nside = 2 ** level\n",
        "\n",
        "    output = torch.empty((time_len, pfull_len, 12, nside, nside), dtype=torch.float32)\n",
        "\n",
        "    for t in tqdm(range(time_len), desc=\"Time\"):\n",
        "        for p in range(pfull_len):\n",
        "            latlon = torch.tensor(ds.isel(time=t, pfull=p).values, dtype=torch.float32)\n",
        "            hp = latlon_to_healpix(latlon, level=level, device=device)\n",
        "            output[t, p] = hp\n",
        "\n",
        "    return output"
      ]
    },
    {
      "cell_type": "code",
      "execution_count": null,
      "metadata": {
        "colab": {
          "background_save": true
        },
        "id": "ZbdZIvlxY0OJ"
      },
      "outputs": [],
      "source": [
        "healpix_tensor = convert_to_healpix_array(ds_normalized.T, level=6, device=\"cpu\")\n",
        "print(healpix_tensor.shape)  # torch.Size([time, pfull, 12, 64, 64])"
      ]
    },
    {
      "cell_type": "code",
      "execution_count": null,
      "metadata": {
        "colab": {
          "background_save": true
        },
        "id": "eVKRgqLqezjl"
      },
      "outputs": [],
      "source": [
        "healpix_tensor[:1].shape"
      ]
    },
    {
      "cell_type": "code",
      "execution_count": null,
      "metadata": {
        "id": "mT1q_IVHhkR_"
      },
      "outputs": [],
      "source": [
        "# Step 1: Convert each to HEALPix\n",
        "healpix_T = convert_to_healpix_array(ds_normalized.T, level=6, device=\"cpu\")\n",
        "healpix_U = convert_to_healpix_array(ds_normalized.U, level=6, device=\"cpu\")\n",
        "healpix_V = convert_to_healpix_array(ds_normalized.V, level=6, device=\"cpu\")\n",
        "\n",
        "# Step 2: Concatenate along the pfull dimension (dim=1)\n",
        "healpix_combined = torch.cat([healpix_T, healpix_U, healpix_V], dim=1)\n",
        "\n",
        "print(\"Final shape:\", healpix_combined.shape)\n",
        "# Expected shape: [time, 3 * pfull, 12, 64, 64]"
      ]
    },
    {
      "cell_type": "code",
      "execution_count": null,
      "metadata": {
        "id": "RpZOfvXSxY6o"
      },
      "outputs": [],
      "source": []
    }
  ],
  "metadata": {
    "accelerator": "GPU",
    "colab": {
      "gpuType": "T4",
      "machine_shape": "hm",
      "provenance": []
    },
    "kernelspec": {
      "display_name": "Python 3",
      "name": "python3"
    },
    "language_info": {
      "name": "python"
    }
  },
  "nbformat": 4,
  "nbformat_minor": 0
}